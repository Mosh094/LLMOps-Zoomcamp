{
 "cells": [
  {
   "cell_type": "code",
   "execution_count": 1,
   "id": "c8cfb0fc-3d92-41f5-9156-ae3969e0fc7a",
   "metadata": {},
   "outputs": [],
   "source": [
    "import openai"
   ]
  },
  {
   "cell_type": "code",
   "execution_count": 2,
   "id": "56bbb928-0980-45fc-86d0-a3fed2aaf102",
   "metadata": {},
   "outputs": [],
   "source": [
    "from openai import OpenAI"
   ]
  },
  {
   "cell_type": "code",
   "execution_count": 10,
   "id": "53f2c335-d97d-461e-acff-33894872b712",
   "metadata": {},
   "outputs": [],
   "source": [
    "response = client.chat.completions.create(\n",
    "    model='gpt-4o',\n",
    "    messages=[{\"role\": \"user\", \"content\": \"is it too late to join the course?\"}]\n",
    ")"
   ]
  },
  {
   "cell_type": "code",
   "execution_count": 11,
   "id": "6a4d71dc-082c-44f5-827a-c4aba8f88d41",
   "metadata": {},
   "outputs": [
    {
     "data": {
      "text/plain": [
       "ChatCompletion(id='chatcmpl-9bFrHDwLPjEv6Zd1DUfZGmQZGzrpG', choices=[Choice(finish_reason='stop', index=0, logprobs=None, message=ChatCompletionMessage(content=\"It's never too late to inquire about joining a course. Here are some steps you can take:\\n\\n1. **Check Enrollment Deadlines:** Visit the course or institution's website to find information about enrollment deadlines.\\n2. **Contact the Instructor or Administration:** Reach out directly to the course instructor or administrative office to ask if late enrollment is possible.\\n3. **Review Course Materials:** If late enrollment is an option, ask for any materials you may need to review to catch up.\\n4. **Consider Online Options:** Some courses offer flexible start dates or rolling admissions, particularly if they are online.\\n\\nMake sure to communicate your situation clearly and ask about any possibilities for catching up on missed content. Good luck!\", role='assistant', function_call=None, tool_calls=None))], created=1718666123, model='gpt-4o-2024-05-13', object='chat.completion', system_fingerprint='fp_aa87380ac5', usage=CompletionUsage(completion_tokens=140, prompt_tokens=16, total_tokens=156))"
      ]
     },
     "execution_count": 11,
     "metadata": {},
     "output_type": "execute_result"
    }
   ],
   "source": [
    "response"
   ]
  },
  {
   "cell_type": "code",
   "execution_count": 12,
   "id": "f79bd621-50c4-41b3-a69c-b6c8c263b2db",
   "metadata": {},
   "outputs": [
    {
     "data": {
      "text/plain": [
       "ChatCompletionMessage(content=\"It's never too late to inquire about joining a course. Here are some steps you can take:\\n\\n1. **Check Enrollment Deadlines:** Visit the course or institution's website to find information about enrollment deadlines.\\n2. **Contact the Instructor or Administration:** Reach out directly to the course instructor or administrative office to ask if late enrollment is possible.\\n3. **Review Course Materials:** If late enrollment is an option, ask for any materials you may need to review to catch up.\\n4. **Consider Online Options:** Some courses offer flexible start dates or rolling admissions, particularly if they are online.\\n\\nMake sure to communicate your situation clearly and ask about any possibilities for catching up on missed content. Good luck!\", role='assistant', function_call=None, tool_calls=None)"
      ]
     },
     "execution_count": 12,
     "metadata": {},
     "output_type": "execute_result"
    }
   ],
   "source": [
    "response.choices[0].message #there is only one choice so [0] and we pick the message from the choice"
   ]
  },
  {
   "cell_type": "code",
   "execution_count": 13,
   "id": "131148ca-bc15-4c8f-acfe-dd2e952e7f36",
   "metadata": {},
   "outputs": [
    {
     "data": {
      "text/plain": [
       "\"It's never too late to inquire about joining a course. Here are some steps you can take:\\n\\n1. **Check Enrollment Deadlines:** Visit the course or institution's website to find information about enrollment deadlines.\\n2. **Contact the Instructor or Administration:** Reach out directly to the course instructor or administrative office to ask if late enrollment is possible.\\n3. **Review Course Materials:** If late enrollment is an option, ask for any materials you may need to review to catch up.\\n4. **Consider Online Options:** Some courses offer flexible start dates or rolling admissions, particularly if they are online.\\n\\nMake sure to communicate your situation clearly and ask about any possibilities for catching up on missed content. Good luck!\""
      ]
     },
     "execution_count": 13,
     "metadata": {},
     "output_type": "execute_result"
    }
   ],
   "source": [
    "response.choices[0].message.content #there is only one choice so [0] and we pick the message from the choice, to show the content"
   ]
  },
  {
   "cell_type": "code",
   "execution_count": null,
   "id": "9928da53-2ab5-4825-a764-e3b990b581b2",
   "metadata": {},
   "outputs": [],
   "source": []
  }
 ],
 "metadata": {
  "kernelspec": {
   "display_name": "Python 3 (ipykernel)",
   "language": "python",
   "name": "python3"
  },
  "language_info": {
   "codemirror_mode": {
    "name": "ipython",
    "version": 3
   },
   "file_extension": ".py",
   "mimetype": "text/x-python",
   "name": "python",
   "nbconvert_exporter": "python",
   "pygments_lexer": "ipython3",
   "version": "3.10.13"
  }
 },
 "nbformat": 4,
 "nbformat_minor": 5
}
